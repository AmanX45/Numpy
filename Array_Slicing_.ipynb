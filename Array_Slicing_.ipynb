{
 "cells": [
  {
   "cell_type": "markdown",
   "id": "96274a64-717f-4854-a6a4-c5083a9b9a14",
   "metadata": {},
   "source": [
    "## Array Slicing"
   ]
  },
  {
   "cell_type": "raw",
   "id": "a3ba081d-49ba-4abf-bd8d-569d670d8a69",
   "metadata": {},
   "source": [
    "Syntax --- > [start:stop:step] \n",
    "start -> pass the starting value by indexing (If we don't pass it consider 0 index value ) \n",
    "stop  -> pass the ending value's index number (If we don't pass it consider the length of array) stop = n-1\n",
    "step  -> pass the step value (if we don't pass it consider it's step 1 )"
   ]
  },
  {
   "cell_type": "code",
   "execution_count": 2,
   "id": "595e004d-27b9-446b-86bd-f3fc1be78803",
   "metadata": {},
   "outputs": [
    {
     "name": "stdout",
     "output_type": "stream",
     "text": [
      "[8 9 9]\n"
     ]
    }
   ],
   "source": [
    "import numpy as np\n",
    "a = np.array([1,8,9,9,6,5])\n",
    "print(a[1:4:1]) # a[1:4] "
   ]
  },
  {
   "cell_type": "code",
   "execution_count": 3,
   "id": "aeebd5b5-175b-457f-a0f3-0797c06bee05",
   "metadata": {},
   "outputs": [
    {
     "name": "stdout",
     "output_type": "stream",
     "text": [
      "[2 8 8 5 2 4 7 5 6]\n"
     ]
    }
   ],
   "source": [
    "# slice element from index 3 to the end of array\n",
    "import numpy as np\n",
    "ar = np.array([1,8,9,2,8,8,5,2,4,7,5,6])\n",
    "print(ar[3:])"
   ]
  },
  {
   "cell_type": "code",
   "execution_count": 4,
   "id": "28cda6df-b3cd-4ad5-89b6-2595e3c4811e",
   "metadata": {},
   "outputs": [
    {
     "name": "stdout",
     "output_type": "stream",
     "text": [
      "[1 8 9 2 8 8 5 2]\n"
     ]
    }
   ],
   "source": [
    "# slice element from the beginning to index 7\n",
    "import numpy as np\n",
    "ar = np.array([1,8,9,2,8,8,5,2,4,7,5,6])\n",
    "print(ar[:8])"
   ]
  },
  {
   "cell_type": "markdown",
   "id": "a85acaac-579b-43c5-a36e-ecca47acfa60",
   "metadata": {},
   "source": [
    "### Negative Slicing"
   ]
  },
  {
   "cell_type": "code",
   "execution_count": 8,
   "id": "3dea5951-1511-4f9c-aadf-a101f292f2b3",
   "metadata": {},
   "outputs": [
    {
     "name": "stdout",
     "output_type": "stream",
     "text": [
      "[8 2 6]\n"
     ]
    }
   ],
   "source": [
    "import numpy as np\n",
    "a = np.array([1,8,9,1,8,2,6,9])\n",
    "print(a[-4:-1]) # stop = n-1 "
   ]
  },
  {
   "cell_type": "markdown",
   "id": "15458296-5100-4913-88f2-466d5b2fdeb2",
   "metadata": {},
   "source": [
    "### Step"
   ]
  },
  {
   "cell_type": "code",
   "execution_count": 13,
   "id": "17108c8f-51d7-4729-b92f-f945ca660c29",
   "metadata": {},
   "outputs": [
    {
     "name": "stdout",
     "output_type": "stream",
     "text": [
      "[8 3 9 9]\n"
     ]
    }
   ],
   "source": [
    "import numpy as np\n",
    "a = np.array([1,8,9,3,8,9,6,9,2,5,3])\n",
    "print(a[1:9:2])"
   ]
  },
  {
   "cell_type": "markdown",
   "id": "49663673-96db-4785-af47-be317ebc3cab",
   "metadata": {},
   "source": [
    "### Return every other element from entire list"
   ]
  },
  {
   "cell_type": "code",
   "execution_count": 16,
   "id": "5e7afab9-e3f5-4b14-a484-19d6a049a291",
   "metadata": {},
   "outputs": [
    {
     "name": "stdout",
     "output_type": "stream",
     "text": [
      "[1 9 8 6 2 3]\n"
     ]
    }
   ],
   "source": [
    " import numpy as np\n",
    "a = np.array([1,8,9,3,8,9,6,9,2,5,3])\n",
    "print(a[::2])"
   ]
  },
  {
   "cell_type": "markdown",
   "id": "b8605400-59bb-4b50-8d9a-e4b944fac3b0",
   "metadata": {},
   "source": [
    "### Reverse a list"
   ]
  },
  {
   "cell_type": "code",
   "execution_count": 15,
   "id": "13b568ea-09e0-4388-bc03-c1723474a145",
   "metadata": {},
   "outputs": [
    {
     "name": "stdout",
     "output_type": "stream",
     "text": [
      "[3 5 2 9 6 9 8 3 9 8 1]\n"
     ]
    }
   ],
   "source": [
    "import numpy as np\n",
    "a = np.array([1,8,9,3,8,9,6,9,2,5,3])\n",
    "print(a[::-1])"
   ]
  },
  {
   "cell_type": "markdown",
   "id": "432b3b51-2136-4d9d-a813-212dbdaa4dbb",
   "metadata": {},
   "source": [
    "### 2-D Array Slicing\n",
    "#### Syntax --- > a[element , start : stop : step ]"
   ]
  },
  {
   "cell_type": "code",
   "execution_count": 17,
   "id": "becbf24f-fd68-42c1-893e-b235b4783c4c",
   "metadata": {},
   "outputs": [
    {
     "name": "stdout",
     "output_type": "stream",
     "text": [
      "[9 6 4]\n"
     ]
    }
   ],
   "source": [
    "import numpy as np\n",
    "a = np.array([[1,8,9,2,6,9],[8,9,6,4,7,2]])\n",
    "print(a[1,1:4])"
   ]
  },
  {
   "cell_type": "markdown",
   "id": "03193acc-7213-43e2-94af-f3283c0fec57",
   "metadata": {},
   "source": [
    "### From both elements,return value"
   ]
  },
  {
   "cell_type": "code",
   "execution_count": 22,
   "id": "50b6b50f-932a-468d-85eb-b4e34e03256f",
   "metadata": {},
   "outputs": [
    {
     "name": "stdout",
     "output_type": "stream",
     "text": [
      "[[9 5 8 2]\n",
      " [9 2 1 4]]\n"
     ]
    }
   ],
   "source": [
    "import numpy as np \n",
    "a = np.array([[4,9,5,8,2,6],[8,9,2,1,4,5]])\n",
    "print(a[0:2, 1:5])"
   ]
  },
  {
   "cell_type": "code",
   "execution_count": null,
   "id": "fe608ec2-ff54-4ddd-a95b-a5aa1691679e",
   "metadata": {},
   "outputs": [],
   "source": []
  },
  {
   "cell_type": "code",
   "execution_count": null,
   "id": "7a051dbe-107c-48e9-9c78-eb6e09955311",
   "metadata": {},
   "outputs": [],
   "source": []
  }
 ],
 "metadata": {
  "kernelspec": {
   "display_name": "Python 3 (ipykernel)",
   "language": "python",
   "name": "python3"
  },
  "language_info": {
   "codemirror_mode": {
    "name": "ipython",
    "version": 3
   },
   "file_extension": ".py",
   "mimetype": "text/x-python",
   "name": "python",
   "nbconvert_exporter": "python",
   "pygments_lexer": "ipython3",
   "version": "3.11.4"
  }
 },
 "nbformat": 4,
 "nbformat_minor": 5
}
