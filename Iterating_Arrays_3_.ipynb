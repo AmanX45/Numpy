{
 "cells": [
  {
   "cell_type": "markdown",
   "id": "5816cca5-dc76-42af-bb3d-af4a03f56d76",
   "metadata": {},
   "source": [
    "## Iterating Arrays"
   ]
  },
  {
   "cell_type": "raw",
   "id": "17db2e37-a85e-4e24-be5f-8ba0e2ee18ad",
   "metadata": {},
   "source": [
    "It means going through the element one by one."
   ]
  },
  {
   "cell_type": "code",
   "execution_count": 19,
   "id": "9339b061-1914-4475-9613-e32f6802c63f",
   "metadata": {},
   "outputs": [
    {
     "name": "stdout",
     "output_type": "stream",
     "text": [
      "1\n",
      "8\n",
      "6\n",
      "7\n",
      "5\n",
      "2\n",
      "5\n",
      "8\n",
      "5\n"
     ]
    }
   ],
   "source": [
    "import numpy as np\n",
    "ax= np.array([1,8,6,7,5,2,5,8,5])\n",
    "\n",
    "for x in ax:\n",
    "    print(x)"
   ]
  },
  {
   "cell_type": "raw",
   "id": "92946866-bec9-4460-866a-41ca17743e86",
   "metadata": {},
   "source": [
    "Iterating 2-D Array"
   ]
  },
  {
   "cell_type": "code",
   "execution_count": 20,
   "id": "05fc4e7a-212c-4161-979e-013ce098adaf",
   "metadata": {},
   "outputs": [
    {
     "name": "stdout",
     "output_type": "stream",
     "text": [
      "[1 2 3 4]\n",
      "[8 9 6 5]\n"
     ]
    }
   ],
   "source": [
    "import numpy as np\n",
    "ax = np.array([[1,2,3,4],[8,9,6,5]])\n",
    "for x in ax:\n",
    "    print(x)"
   ]
  },
  {
   "cell_type": "raw",
   "id": "b1a63e81-163d-41d7-b909-b4e325af8e2b",
   "metadata": {},
   "source": [
    "If we iterate on a n-D array it will go through n-1th dimension one by one."
   ]
  },
  {
   "cell_type": "code",
   "execution_count": 22,
   "id": "58bb245b-30c5-499e-aafc-e2e139900903",
   "metadata": {},
   "outputs": [
    {
     "name": "stdout",
     "output_type": "stream",
     "text": [
      "1\n",
      "8\n",
      "5\n",
      "2\n",
      "6\n",
      "8\n",
      "7\n",
      "8\n",
      "8\n",
      "9\n",
      "5\n",
      "6\n"
     ]
    }
   ],
   "source": [
    "import numpy as np\n",
    "ax= np.array([[1,8,5,2,6,8],[7,8,8,9,5,6]])\n",
    "for x in ax:\n",
    "    for y in x:\n",
    "        print(y)"
   ]
  },
  {
   "cell_type": "markdown",
   "id": "c99badca-8201-4b3c-bf11-881378b6f67a",
   "metadata": {},
   "source": [
    "### Iterating 3-D Array\n",
    "#### In a 2-D array it will go through all the rows."
   ]
  },
  {
   "cell_type": "code",
   "execution_count": 25,
   "id": "b88ea2d4-e518-401c-a594-a1b7fd79374d",
   "metadata": {},
   "outputs": [
    {
     "name": "stdout",
     "output_type": "stream",
     "text": [
      "[[1 8 9 6]\n",
      " [6 8 5 2]]\n",
      "[[4 8 5 5]\n",
      " [8 5 2 9]]\n"
     ]
    }
   ],
   "source": [
    "import numpy as np\n",
    "ax = np.array([[[1,8,9,6],[6,8,5,2]],[[4,8,5,5],[8,5,2,9]]])\n",
    "for x in ax : \n",
    "    print(x)"
   ]
  },
  {
   "cell_type": "markdown",
   "id": "e30f673f-e5fb-4e31-a5b7-e0fd043406a7",
   "metadata": {},
   "source": [
    "### To return the actual values, the scalars, we have to iterate the arrays in each dimension."
   ]
  },
  {
   "cell_type": "code",
   "execution_count": 26,
   "id": "c0b84cd1-0b04-498d-9ce0-7534bf4baa86",
   "metadata": {},
   "outputs": [
    {
     "name": "stdout",
     "output_type": "stream",
     "text": [
      "1\n",
      "8\n",
      "9\n",
      "6\n",
      "8\n",
      "8\n",
      "8\n",
      "5\n",
      "4\n",
      "8\n",
      "5\n",
      "8\n",
      "7\n",
      "4\n",
      "5\n",
      "8\n"
     ]
    }
   ],
   "source": [
    "import numpy as np\n",
    "ax =np.array([[[1,8,9,6],[8,8,8,5]],[[4,8,5,8],[7,4,5,8]]])\n",
    "for x in ax:\n",
    "    for y in x:\n",
    "        for z in y:\n",
    "            print(z)"
   ]
  },
  {
   "cell_type": "markdown",
   "id": "127e208f-9e66-4a32-af90-14439f0f9b81",
   "metadata": {},
   "source": [
    "## Iterating Array Using nditer()"
   ]
  },
  {
   "cell_type": "raw",
   "id": "b13b103c-2e9c-450f-ab68-99c4d70e61f0",
   "metadata": {},
   "source": [
    "nditer() --- > is a helping function that can be used from very basic to very advanced iteration \n",
    "It is difficult to write arrays with very high dimensionality , we need to use n for loops.\n",
    "\n",
    "for x in np.nditer(ax):\n",
    "    print(x)"
   ]
  },
  {
   "cell_type": "code",
   "execution_count": 28,
   "id": "60ca57dc-3743-4199-8950-aa9556cb1d66",
   "metadata": {},
   "outputs": [
    {
     "name": "stdout",
     "output_type": "stream",
     "text": [
      "1\n",
      "5\n",
      "8\n",
      "9\n",
      "9\n",
      "5\n",
      "9\n",
      "6\n",
      "8\n",
      "5\n",
      "2\n",
      "6\n",
      "8\n",
      "8\n",
      "9\n",
      "5\n"
     ]
    }
   ],
   "source": [
    "import numpy as np\n",
    "ax = np.array([[[1,5,8,9],[9,5,9,6]],[[8,5,2,6],[8,8,9,5]]])\n",
    "for x in np.nditer(ax):\n",
    "    print(x)"
   ]
  },
  {
   "cell_type": "code",
   "execution_count": 31,
   "id": "b02e0903-462e-4b64-beb5-2a498be1270b",
   "metadata": {},
   "outputs": [
    {
     "name": "stdout",
     "output_type": "stream",
     "text": [
      "b'1'\n",
      "b'2'\n",
      "b'3'\n"
     ]
    }
   ],
   "source": [
    "import numpy as np\n",
    "\n",
    "arr = np.array([1, 2, 3])\n",
    "\n",
    "for x in np.nditer(arr, flags=['buffered'], op_dtypes=['S']): \n",
    "  print(x)\n",
    "\n",
    "# buffered used to convert data into string temporarily , without affecting the original data.\n",
    "# op_dtypes --- > output data types\n",
    "    "
   ]
  },
  {
   "cell_type": "code",
   "execution_count": 32,
   "id": "d601ab49-02c8-452b-9f3a-67b76e98f544",
   "metadata": {},
   "outputs": [
    {
     "name": "stdout",
     "output_type": "stream",
     "text": [
      "b'1'\n",
      "b'2'\n",
      "b'3'\n"
     ]
    }
   ],
   "source": [
    "# another way but in this we permanentily  change the datatype to string\n",
    "import numpy as np\n",
    "\n",
    "arr = np.array([1, 2, 3],dtype='S')\n",
    "for x in np.nditer(arr):\n",
    "    print(x)\n"
   ]
  },
  {
   "cell_type": "markdown",
   "id": "5350f54e-5dc3-4603-84bd-6d128894cc51",
   "metadata": {},
   "source": [
    "### Iterating with different Step Size"
   ]
  },
  {
   "cell_type": "code",
   "execution_count": 35,
   "id": "3f3881ea-0db4-425a-b795-e7fdf4c8e634",
   "metadata": {},
   "outputs": [
    {
     "name": "stdout",
     "output_type": "stream",
     "text": [
      "1\n",
      "8\n",
      "7\n",
      "8\n"
     ]
    }
   ],
   "source": [
    "import numpy as np\n",
    "ax =  np.array([[1,7,8,2],[7,8,8,9]])\n",
    "for x in np.nditer(ax[:, ::2]): # print every other element from array\n",
    "    print(x)"
   ]
  },
  {
   "cell_type": "code",
   "execution_count": 38,
   "id": "f480cc3e-9e23-42d9-9bfd-70cd209712c7",
   "metadata": {},
   "outputs": [
    {
     "name": "stdout",
     "output_type": "stream",
     "text": [
      "1\n",
      "8\n",
      "7\n",
      "8\n"
     ]
    }
   ],
   "source": [
    "# another way to do \n",
    "import numpy as np\n",
    "ax =  np.array([[1,7,8,2],[7,8,8,9]])\n",
    "y=ax[:, ::2]\n",
    "for x in np.nditer(y): # print every other element from array\n",
    "    print(x)"
   ]
  },
  {
   "cell_type": "markdown",
   "id": "4a93b967-a877-4a6b-9ca7-6a528d439761",
   "metadata": {},
   "source": [
    "## Enumerated Iteration Using ndenumerate()"
   ]
  },
  {
   "cell_type": "raw",
   "id": "9fd4d34d-0767-422f-be43-ed79f589faad",
   "metadata": {},
   "source": [
    "Enumeration means mentioning sequence number of somethings one by one.\n"
   ]
  },
  {
   "cell_type": "code",
   "execution_count": 44,
   "id": "254aeae0-94e9-4c34-86cc-f62027ee09c2",
   "metadata": {},
   "outputs": [
    {
     "name": "stdout",
     "output_type": "stream",
     "text": [
      "(0,) 8\n",
      "(1,) 9\n",
      "(2,) 5\n",
      "(3,) 2\n",
      "(4,) 1\n",
      "(5,) 4\n",
      "(6,) 7\n",
      "(7,) 8\n",
      "(8,) 9\n",
      "(9,) 5\n",
      "(10,) 1\n"
     ]
    }
   ],
   "source": [
    "# In 1-D array\n",
    "import numpy as np \n",
    "ax = np.array([8,9,5,2,1,4,7,8,9,5,1])\n",
    "for idx ,x in np.ndenumerate(ax):\n",
    "    print(idx,x)"
   ]
  },
  {
   "cell_type": "code",
   "execution_count": 43,
   "id": "61c11e3c-9e8d-4725-b441-dd342ddc58c9",
   "metadata": {},
   "outputs": [
    {
     "name": "stdout",
     "output_type": "stream",
     "text": [
      "(0, 0) 1\n",
      "(0, 1) 8\n",
      "(0, 2) 8\n",
      "(0, 3) 5\n",
      "(0, 4) 2\n",
      "(0, 5) 4\n",
      "(0, 6) 5\n",
      "(0, 7) 5\n",
      "(1, 0) 8\n",
      "(1, 1) 5\n",
      "(1, 2) 2\n",
      "(1, 3) 6\n",
      "(1, 4) 6\n",
      "(1, 5) 2\n",
      "(1, 6) 7\n",
      "(1, 7) 7\n"
     ]
    }
   ],
   "source": [
    "# In 2-D array\n",
    "import numpy as np \n",
    "ax = np.array([[1,8,8,5,2,4,5,5],[8,5,2,6,6,2,7,7]])\n",
    "for idx ,x in np.ndenumerate(ax):\n",
    "    print(idx,x)"
   ]
  },
  {
   "cell_type": "code",
   "execution_count": 46,
   "id": "271c8931-a723-4215-a029-1e6f6697a97f",
   "metadata": {},
   "outputs": [
    {
     "name": "stdout",
     "output_type": "stream",
     "text": [
      "(0, 0) 5\n",
      "(0, 1) 9\n",
      "(0, 2) 5\n",
      "(0, 3) 8\n",
      "(0, 4) 9\n",
      "(0, 5) 5\n",
      "(1, 0) 8\n",
      "(1, 1) 5\n",
      "(1, 2) 2\n",
      "(1, 3) 1\n",
      "(1, 4) 4\n",
      "(1, 5) 5\n"
     ]
    }
   ],
   "source": [
    "import numpy as np \n",
    "ax = np.array([[5,9,5,8,9,5],[8,5,2,1,4,5]])\n",
    "for x , y in np.ndenumerate(ax):\n",
    "    print(x,y)\n",
    "\n"
   ]
  },
  {
   "cell_type": "code",
   "execution_count": null,
   "id": "b02d051c-e5e0-4379-803d-54f1f5bd92d2",
   "metadata": {},
   "outputs": [],
   "source": []
  }
 ],
 "metadata": {
  "kernelspec": {
   "display_name": "Python 3 (ipykernel)",
   "language": "python",
   "name": "python3"
  },
  "language_info": {
   "codemirror_mode": {
    "name": "ipython",
    "version": 3
   },
   "file_extension": ".py",
   "mimetype": "text/x-python",
   "name": "python",
   "nbconvert_exporter": "python",
   "pygments_lexer": "ipython3",
   "version": "3.11.4"
  }
 },
 "nbformat": 4,
 "nbformat_minor": 5
}
