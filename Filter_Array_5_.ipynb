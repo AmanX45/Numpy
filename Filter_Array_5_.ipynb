{
 "cells": [
  {
   "cell_type": "markdown",
   "id": "3bb8ee5e-454e-45d3-8ac2-62616c956a95",
   "metadata": {},
   "source": [
    "## Filter Array"
   ]
  },
  {
   "cell_type": "raw",
   "id": "87016e88-7756-42b0-98e4-87c7f203148a",
   "metadata": {},
   "source": [
    "Filtering arrays --- > getting some elements out of an existing array and create a new array of them.\n",
    "In NumPy, you filter an array using a boolean index list.\n",
    "A boolean index list is a list of booleans corresponding to indexes in the array.\n",
    "\n",
    "If the value at an index is True that element is contained in the filtered array, if the value at that index is False that element is excluded from the filtered array.\n",
    "\n"
   ]
  },
  {
   "cell_type": "code",
   "execution_count": 2,
   "id": "0ab64d19-fa2a-41c4-a95e-9d85caa006a2",
   "metadata": {},
   "outputs": [
    {
     "name": "stdout",
     "output_type": "stream",
     "text": [
      "[41 43]\n"
     ]
    }
   ],
   "source": [
    "import numpy as np\n",
    "ax = np.array([41,42,43,44])\n",
    "x=[True,False,True,False]\n",
    "newarr = ax[x]\n",
    "print(newarr)\n",
    "# the new array contains only the values where the filter array had the value True, in this case, index 0 and 2.\n",
    "\n"
   ]
  },
  {
   "cell_type": "markdown",
   "id": "32e54f78-f14b-488e-8593-f84ead9d045d",
   "metadata": {},
   "source": [
    "### Creating the filter array"
   ]
  },
  {
   "cell_type": "raw",
   "id": "53806825-9157-41fc-92a0-02baa7ae8499",
   "metadata": {},
   "source": [
    "In the example above we hard-coded the True and False values, but the common use is to create a filter array based on conditions."
   ]
  },
  {
   "cell_type": "code",
   "execution_count": 8,
   "id": "0f09887c-27d2-4e95-b6a6-bc5906fd9bfb",
   "metadata": {},
   "outputs": [
    {
     "name": "stdout",
     "output_type": "stream",
     "text": [
      "[False, False, True, True]\n",
      "[41 42 43 44]\n"
     ]
    }
   ],
   "source": [
    "import numpy as np\n",
    "ax = np.array([41,42,43,44])\n",
    "# create an empty list\n",
    "filter_ar =[]\n",
    "# go through each element in array\n",
    "for element in ax:\n",
    "    if element > 42:\n",
    "      filter_ar.append(True)\n",
    "    else : \n",
    "      filter_ar.append(False)\n",
    "newarr = ax[filter_ar]\n",
    "print(filter_ar)\n",
    "print(ax)\n",
    "    "
   ]
  },
  {
   "cell_type": "markdown",
   "id": "36b84257-bf2c-44f2-b5e6-850c2c71e290",
   "metadata": {},
   "source": [
    "Create a filter array that will return only even elements from the original array:"
   ]
  },
  {
   "cell_type": "code",
   "execution_count": 9,
   "id": "d3b7b099-2c50-49ab-bdd0-dda044ac4560",
   "metadata": {},
   "outputs": [
    {
     "name": "stdout",
     "output_type": "stream",
     "text": [
      "[False, True, False, True, False, True, False]\n",
      "[2 4 6]\n"
     ]
    }
   ],
   "source": [
    "import numpy as np\n",
    "arr= np.array([1,2,3,4,5,6,7])\n",
    "# create an empty list\n",
    "fil_ar=[]\n",
    "# go through each element in arr\n",
    "for element in arr : \n",
    "    if element % 2 == 0:\n",
    "      fil_ar.append(True)\n",
    "    else:\n",
    "      fil_ar.append(False)\n",
    "newarr= arr[fil_ar]\n",
    "print(fil_ar)\n",
    "print(newarr)\n",
    "        \n",
    "        "
   ]
  },
  {
   "cell_type": "markdown",
   "id": "52392f6b-59c0-4762-a326-e07391767d4d",
   "metadata": {},
   "source": [
    "Creating Filter Directly From Array\n",
    "The above example is quite a common task in NumPy and NumPy provides a nice way to tackle it.\n",
    "\n",
    "We can directly substitute the array instead of the iterable variable in our condition and it will work just as we expect it to"
   ]
  },
  {
   "cell_type": "code",
   "execution_count": 10,
   "id": "84412293-62a0-45a1-843d-c4ce79cd2886",
   "metadata": {},
   "outputs": [
    {
     "name": "stdout",
     "output_type": "stream",
     "text": [
      "[False False  True  True]\n",
      "[43 44]\n"
     ]
    }
   ],
   "source": [
    "# Create a filter array that will return only values higher than 42:\n",
    "\n",
    "import numpy as np\n",
    "\n",
    "arr = np.array([41, 42, 43, 44])\n",
    "\n",
    "filter_arr = arr > 42\n",
    "\n",
    "newarr = arr[filter_arr]\n",
    "\n",
    "print(filter_arr)\n",
    "print(newarr)"
   ]
  },
  {
   "cell_type": "code",
   "execution_count": 11,
   "id": "b10be741-8c98-43df-a497-5059de3f0405",
   "metadata": {},
   "outputs": [
    {
     "name": "stdout",
     "output_type": "stream",
     "text": [
      "[False  True False  True False  True False]\n",
      "[2 4 6]\n"
     ]
    }
   ],
   "source": [
    "# Create a filter array that will return only even elements from the original array:\n",
    "\n",
    "import numpy as np\n",
    "\n",
    "arr = np.array([1, 2, 3, 4, 5, 6, 7])\n",
    "\n",
    "filter_arr = arr % 2 == 0\n",
    "\n",
    "newarr = arr[filter_arr]\n",
    "\n",
    "print(filter_arr)\n",
    "print(newarr)"
   ]
  },
  {
   "cell_type": "code",
   "execution_count": null,
   "id": "a3f9d235-483e-4636-92ea-52eed791fd9b",
   "metadata": {},
   "outputs": [],
   "source": []
  }
 ],
 "metadata": {
  "kernelspec": {
   "display_name": "Python 3 (ipykernel)",
   "language": "python",
   "name": "python3"
  },
  "language_info": {
   "codemirror_mode": {
    "name": "ipython",
    "version": 3
   },
   "file_extension": ".py",
   "mimetype": "text/x-python",
   "name": "python",
   "nbconvert_exporter": "python",
   "pygments_lexer": "ipython3",
   "version": "3.11.4"
  }
 },
 "nbformat": 4,
 "nbformat_minor": 5
}
