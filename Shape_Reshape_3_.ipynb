{
 "cells": [
  {
   "cell_type": "raw",
   "id": "c8d95e33-c4f5-4638-b104-91af6f254dd2",
   "metadata": {},
   "source": [
    "Shape --- > No. of elements in each dimension\n",
    "Syntax -- > a.shape  , output (row , column)"
   ]
  },
  {
   "cell_type": "code",
   "execution_count": 1,
   "id": "c356e876-c21e-4420-9c86-64e69f22a7f1",
   "metadata": {},
   "outputs": [
    {
     "name": "stdout",
     "output_type": "stream",
     "text": [
      "(2, 5)\n"
     ]
    }
   ],
   "source": [
    "import numpy as np\n",
    "ax = np.array([[1,8,6,3,4],[2,7,9,3,2]])\n",
    "print(ax.shape) "
   ]
  },
  {
   "cell_type": "code",
   "execution_count": 2,
   "id": "80eed084-3886-49ad-aabb-fba6468ef428",
   "metadata": {},
   "outputs": [
    {
     "name": "stdout",
     "output_type": "stream",
     "text": [
      "(1, 1, 1, 1, 1, 5)\n"
     ]
    }
   ],
   "source": [
    "# create an array with 6 dimensions using ndmin \n",
    "import numpy as np\n",
    "ax= np.array([1,2,3,3,4] , ndmin=6)\n",
    "print(ax.shape)"
   ]
  },
  {
   "cell_type": "markdown",
   "id": "065e4cd2-3a72-48c7-b698-333cf45177ff",
   "metadata": {},
   "source": [
    "## Reshaping\n",
    "#### NumPy Array Reshaping"
   ]
  },
  {
   "cell_type": "raw",
   "id": "088548e3-c044-447b-8333-bcbe0cff9e1a",
   "metadata": {},
   "source": [
    "Reshaping ---> changing the shape of an array.\n",
    "Shape of an array is the number of elements in each dimension.\n",
    "By reshaping we can add or remove dimensions or change number of elements in each dimension"
   ]
  },
  {
   "cell_type": "markdown",
   "id": "b1dbe55a-4aab-4673-94be-16b5aa7ccda5",
   "metadata": {},
   "source": [
    "#### Reshape from 1-D to 2-D"
   ]
  },
  {
   "cell_type": "code",
   "execution_count": 17,
   "id": "90f39ff2-2f18-4b52-8e26-b3cf6df04098",
   "metadata": {},
   "outputs": [
    {
     "data": {
      "text/plain": [
       "array([[[1, 3],\n",
       "        [5, 7],\n",
       "        [9, 8],\n",
       "        [4, 6],\n",
       "        [2, 0],\n",
       "        [2, 5],\n",
       "        [6, 3],\n",
       "        [4, 5]]])"
      ]
     },
     "execution_count": 17,
     "metadata": {},
     "output_type": "execute_result"
    }
   ],
   "source": [
    "import numpy as np\n",
    "ax = np.array([1,3,5,7,9,8,4,6,2,0,2,5,6,3,4,5])\n",
    "new = ax.reshape([1,8])\n",
    "new"
   ]
  },
  {
   "cell_type": "code",
   "execution_count": 18,
   "id": "613d4010-26d4-4f75-bd29-a15bcf7bab23",
   "metadata": {},
   "outputs": [],
   "source": [
    "### Reshape 1-D to 2D"
   ]
  },
  {
   "cell_type": "code",
   "execution_count": 20,
   "id": "70df79c9-f66b-4262-a421-ada796f07e6d",
   "metadata": {},
   "outputs": [
    {
     "data": {
      "text/plain": [
       "array([[[1, 3, 5, 7],\n",
       "        [9, 8, 4, 6]],\n",
       "\n",
       "       [[2, 0, 2, 5],\n",
       "        [6, 3, 4, 5]]])"
      ]
     },
     "execution_count": 20,
     "metadata": {},
     "output_type": "execute_result"
    }
   ],
   "source": [
    "import numpy as np\n",
    "ax = np.array([1,3,5,7,9,8,4,6,2,0,2,5,6,3,4,5])\n",
    "new = ax.reshape([2,2,4])\n",
    "new"
   ]
  },
  {
   "cell_type": "code",
   "execution_count": 34,
   "id": "b8e41917-4733-4738-9281-e56b69305c1c",
   "metadata": {},
   "outputs": [
    {
     "name": "stdout",
     "output_type": "stream",
     "text": [
      "[1 2 3 4 5 6]\n"
     ]
    }
   ],
   "source": [
    "import numpy as np\n",
    "\n",
    "arr = np.array([[1, 2, 3], [4, 5, 6]])\n",
    "\n",
    "newarr = arr.reshape(6)\n",
    "\n",
    "print(newarr)"
   ]
  },
  {
   "cell_type": "markdown",
   "id": "d0c85c23-5758-48d5-bbf8-67dc26ad2074",
   "metadata": {},
   "source": [
    "### Returns Copy or View?\n"
   ]
  },
  {
   "cell_type": "code",
   "execution_count": 22,
   "id": "657fa5a8-e239-4763-9d5c-e506aa7f7ece",
   "metadata": {},
   "outputs": [
    {
     "name": "stdout",
     "output_type": "stream",
     "text": [
      "[1 2 3 4 5 6 7 8]\n"
     ]
    }
   ],
   "source": [
    "import numpy as np\n",
    "\n",
    "arr = np.array([1, 2, 3, 4, 5, 6, 7, 8])\n",
    "\n",
    "print(arr.reshape(2, 4).base)"
   ]
  },
  {
   "cell_type": "markdown",
   "id": "a0856c4e-d925-4387-870c-aa6ccd090715",
   "metadata": {},
   "source": [
    "### Flattening the arrays"
   ]
  },
  {
   "cell_type": "code",
   "execution_count": 26,
   "id": "9b7d0c7a-21c4-4dea-aaec-8bc0b68cc63c",
   "metadata": {},
   "outputs": [
    {
     "name": "stdout",
     "output_type": "stream",
     "text": [
      "[1 2 3 4 5 6]\n"
     ]
    }
   ],
   "source": [
    "import numpy as np\n",
    "\n",
    "arr = np.array([[1, 2, 3], [4, 5, 6]])\n",
    "\n",
    "newarr = arr.reshape(-1)\n",
    "\n",
    "print(newarr)"
   ]
  },
  {
   "cell_type": "markdown",
   "id": "5e9cb0ad-385f-4ab1-a9b1-e86488591f63",
   "metadata": {},
   "source": [
    "### Unknown Dimension\n",
    "#### You are allowed to have one \"unknown\" dimension."
   ]
  },
  {
   "cell_type": "code",
   "execution_count": 30,
   "id": "4974d1a4-0dfd-4ebc-8329-15ee955c61b6",
   "metadata": {},
   "outputs": [
    {
     "name": "stdout",
     "output_type": "stream",
     "text": [
      "[[[1 2]\n",
      "  [3 4]]\n",
      "\n",
      " [[5 6]\n",
      "  [7 8]]]\n"
     ]
    }
   ],
   "source": [
    "import numpy as np\n",
    "\n",
    "arr = np.array([1, 2, 3, 4, 5, 6, 7, 8])\n",
    "\n",
    "newarr = arr.reshape(2, 2, -1)\n",
    "\n",
    "print(newarr)"
   ]
  },
  {
   "cell_type": "code",
   "execution_count": 35,
   "id": "5debd188-cdcb-482e-bc98-6ebbe1d9eaad",
   "metadata": {},
   "outputs": [
    {
     "name": "stdout",
     "output_type": "stream",
     "text": [
      "[1.         0.8660254  0.70710678 0.58778525]\n"
     ]
    }
   ],
   "source": []
  },
  {
   "cell_type": "code",
   "execution_count": null,
   "id": "8ff95d30-a0f1-4e25-82fd-ea3890d1ead9",
   "metadata": {},
   "outputs": [],
   "source": []
  }
 ],
 "metadata": {
  "kernelspec": {
   "display_name": "Python 3 (ipykernel)",
   "language": "python",
   "name": "python3"
  },
  "language_info": {
   "codemirror_mode": {
    "name": "ipython",
    "version": 3
   },
   "file_extension": ".py",
   "mimetype": "text/x-python",
   "name": "python",
   "nbconvert_exporter": "python",
   "pygments_lexer": "ipython3",
   "version": "3.11.4"
  }
 },
 "nbformat": 4,
 "nbformat_minor": 5
}
