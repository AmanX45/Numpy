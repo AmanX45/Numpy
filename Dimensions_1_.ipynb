{
 "cells": [
  {
   "cell_type": "markdown",
   "id": "8bf4e012-a0e5-4f96-b268-6a0d12f2e017",
   "metadata": {},
   "source": [
    "## Dimensions In Array"
   ]
  },
  {
   "cell_type": "raw",
   "id": "59d5a595-6d00-4565-b658-e46c89722cfe",
   "metadata": {},
   "source": [
    "Nested array ---> arrays have arrays as their elements"
   ]
  },
  {
   "cell_type": "raw",
   "id": "b4bb0cff-60fa-4e6c-a36b-ef4ed8c247ed",
   "metadata": {},
   "source": [
    "0-D Arrays\n",
    "0-D arrays, or Scalars, are the elements in an array. Each value in an array is a 0-D array."
   ]
  },
  {
   "cell_type": "code",
   "execution_count": 1,
   "id": "5767c325-fbf8-4509-b577-2642dfcba2f2",
   "metadata": {},
   "outputs": [
    {
     "name": "stdout",
     "output_type": "stream",
     "text": [
      "42\n"
     ]
    }
   ],
   "source": [
    "import numpy as np\n",
    "arr = np.array(42)\n",
    "print(arr)"
   ]
  },
  {
   "cell_type": "raw",
   "id": "12e9d1e0-1c53-4799-bcc7-7337053b8cc9",
   "metadata": {},
   "source": [
    "1-D Arrays \n",
    "An array that has 0-D arrays as its elements is called uni-dimensional or 1-D array."
   ]
  },
  {
   "cell_type": "code",
   "execution_count": 2,
   "id": "20a5ab1f-09fd-4013-8353-6b858a7a18d7",
   "metadata": {},
   "outputs": [
    {
     "data": {
      "text/plain": [
       "array([1, 2, 3, 4, 5])"
      ]
     },
     "execution_count": 2,
     "metadata": {},
     "output_type": "execute_result"
    }
   ],
   "source": [
    "arr = np.array([1,2,3,4,5])\n",
    "arr"
   ]
  },
  {
   "cell_type": "raw",
   "id": "485747a4-b7f5-4f0c-a437-7ffce959d803",
   "metadata": {},
   "source": [
    "2-D Arrays\n",
    "An array that has 1-D arrays as its elements is called a 2-D array.\n",
    "These are often used to represent matrix or 2nd order tensors."
   ]
  },
  {
   "cell_type": "code",
   "execution_count": 5,
   "id": "e8cee347-fd70-4d7f-a917-43c7cf312a49",
   "metadata": {},
   "outputs": [
    {
     "data": {
      "text/plain": [
       "array([[ 1,  2,  3,  4,  5],\n",
       "       [ 6,  7,  8,  9, 10]])"
      ]
     },
     "execution_count": 5,
     "metadata": {},
     "output_type": "execute_result"
    }
   ],
   "source": [
    "arr = np.array([[1,2,3,4,5],[6,7,8,9,10]])\n",
    "arr"
   ]
  },
  {
   "cell_type": "raw",
   "id": "06d34b4f-f765-4b31-a093-76db45cab245",
   "metadata": {},
   "source": [
    "3-D Arrays\n",
    "An array that has 2-D arrays (matrices) as its elements is called 3-D array."
   ]
  },
  {
   "cell_type": "code",
   "execution_count": 7,
   "id": "ecf2ae68-1b5a-4d4a-8015-4999bdd65131",
   "metadata": {},
   "outputs": [
    {
     "data": {
      "text/plain": [
       "array([[[ 1,  2,  3],\n",
       "        [ 4,  5,  6]],\n",
       "\n",
       "       [[ 7,  8,  9],\n",
       "        [10, 11, 12]]])"
      ]
     },
     "execution_count": 7,
     "metadata": {},
     "output_type": "execute_result"
    }
   ],
   "source": [
    "arr =np.array([[[1,2,3],[4,5,6]],[[7,8,9],[10,11,12]]])\n",
    "arr"
   ]
  },
  {
   "cell_type": "raw",
   "id": "dde30201-4153-4bef-a72a-a493683d39d4",
   "metadata": {},
   "source": [
    "Check number of dimensions \n",
    "Syntax ---> a.ndim"
   ]
  },
  {
   "cell_type": "code",
   "execution_count": 12,
   "id": "3e55c430-6264-48f8-8f20-78d01f863034",
   "metadata": {},
   "outputs": [
    {
     "name": "stdout",
     "output_type": "stream",
     "text": [
      "0\n",
      "1\n",
      "2\n",
      "3\n",
      "4\n"
     ]
    }
   ],
   "source": [
    "import numpy as np\n",
    "a = np.array(1)\n",
    "b = np.array([1,2,3])\n",
    "c = np.array([[1,2,3],[4,5,6]])\n",
    "d = np.array([[[1,2,3],[4,5,6]],[[7,8,9],[10,11,12]]])\n",
    "e = np.array([[[[1,2,3],[4,5,6]],[[7,8,9],[10,11,12]]],[[[11,12,13],[14,15,16]],[[17,18,19],[21,22,23]]]])\n",
    "print(a.ndim)\n",
    "print(b.ndim)\n",
    "print(c.ndim)\n",
    "print(d.ndim)\n",
    "print(e.ndim)"
   ]
  },
  {
   "cell_type": "markdown",
   "id": "4b5dbe4a-895c-4a4e-92f1-d9c0f35b79cc",
   "metadata": {},
   "source": [
    "### Higher Dimensional Arrays"
   ]
  },
  {
   "cell_type": "raw",
   "id": "9699491c-36e5-40d7-a120-e6497fcc36d5",
   "metadata": {},
   "source": [
    "An array can have any number of dimensions.\n",
    "When the array is created, you can define the number of dimensions by using the ndmin argument.\n",
    "Syntax ---> ndmin = 10 "
   ]
  },
  {
   "cell_type": "code",
   "execution_count": 17,
   "id": "ab1abca7-cd8a-4eb7-964d-b9bd1785f187",
   "metadata": {},
   "outputs": [
    {
     "name": "stdout",
     "output_type": "stream",
     "text": [
      "Number of dimensions  15\n"
     ]
    }
   ],
   "source": [
    "import numpy as np\n",
    "arr=np.array([1,2,3,4], ndmin=15) # upto 32-D\n",
    "arr\n",
    "print('Number of dimensions ',arr.ndim)"
   ]
  },
  {
   "cell_type": "code",
   "execution_count": null,
   "id": "a8ae4222-3259-41bd-b162-07d6315293a8",
   "metadata": {},
   "outputs": [],
   "source": []
  }
 ],
 "metadata": {
  "kernelspec": {
   "display_name": "Python 3 (ipykernel)",
   "language": "python",
   "name": "python3"
  },
  "language_info": {
   "codemirror_mode": {
    "name": "ipython",
    "version": 3
   },
   "file_extension": ".py",
   "mimetype": "text/x-python",
   "name": "python",
   "nbconvert_exporter": "python",
   "pygments_lexer": "ipython3",
   "version": "3.11.4"
  }
 },
 "nbformat": 4,
 "nbformat_minor": 5
}
