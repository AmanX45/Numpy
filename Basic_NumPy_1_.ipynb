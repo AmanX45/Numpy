{
 "cells": [
  {
   "cell_type": "code",
   "execution_count": 1,
   "id": "8a3117fe-e168-4945-86bc-c0ba455fb2b0",
   "metadata": {},
   "outputs": [],
   "source": [
    "import numpy as np # alias --> Alias are an alternative name for referring to the same thing"
   ]
  },
  {
   "cell_type": "code",
   "execution_count": 2,
   "id": "ba14c9e6-c14c-411e-991b-ff780de5b176",
   "metadata": {},
   "outputs": [
    {
     "name": "stdout",
     "output_type": "stream",
     "text": [
      "1.26.2\n"
     ]
    }
   ],
   "source": [
    "# Check NumPy verison\n",
    "print(np.__version__)"
   ]
  },
  {
   "cell_type": "code",
   "execution_count": 3,
   "id": "9c52a93e-bfc1-40e4-9e3b-b821810b679b",
   "metadata": {},
   "outputs": [
    {
     "name": "stdout",
     "output_type": "stream",
     "text": [
      "[1 2 3 4 5]\n"
     ]
    }
   ],
   "source": [
    "# Create a NumPy ndarray Object\n",
    "arr = np.array([1,2,3,4,5])\n",
    "print(arr)"
   ]
  },
  {
   "cell_type": "code",
   "execution_count": 5,
   "id": "5c919092-9726-49cd-a215-02b6acb02276",
   "metadata": {},
   "outputs": [
    {
     "name": "stdout",
     "output_type": "stream",
     "text": [
      "<class 'numpy.ndarray'>\n"
     ]
    }
   ],
   "source": [
    "#Check the type\n",
    "# type() --> tell the type of python function\n",
    "print(type(arr))"
   ]
  },
  {
   "cell_type": "code",
   "execution_count": 6,
   "id": "4750c5b7-f8d6-4ab3-bea2-e9b9293b4623",
   "metadata": {},
   "outputs": [
    {
     "name": "stdout",
     "output_type": "stream",
     "text": [
      "[1 2 3 4 5]\n"
     ]
    }
   ],
   "source": [
    "# use a tuple to create numpy array\n",
    "arr=np.array((1,2,3,4,5))\n",
    "print(arr)"
   ]
  },
  {
   "cell_type": "code",
   "execution_count": null,
   "id": "6a9e4462-d802-45a7-bb1a-8603556170d4",
   "metadata": {},
   "outputs": [],
   "source": []
  }
 ],
 "metadata": {
  "kernelspec": {
   "display_name": "Python 3 (ipykernel)",
   "language": "python",
   "name": "python3"
  },
  "language_info": {
   "codemirror_mode": {
    "name": "ipython",
    "version": 3
   },
   "file_extension": ".py",
   "mimetype": "text/x-python",
   "name": "python",
   "nbconvert_exporter": "python",
   "pygments_lexer": "ipython3",
   "version": "3.11.4"
  }
 },
 "nbformat": 4,
 "nbformat_minor": 5
}
