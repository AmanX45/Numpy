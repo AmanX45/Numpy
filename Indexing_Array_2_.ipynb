{
 "cells": [
  {
   "cell_type": "markdown",
   "id": "ddef3162-61e8-4fc5-beeb-c374bc379819",
   "metadata": {},
   "source": [
    "## Array Indexing"
   ]
  },
  {
   "cell_type": "raw",
   "id": "d29bb2b7-96db-4fb3-9546-d70e933b222a",
   "metadata": {},
   "source": [
    "Indexing in array start with 0 , which means the first element has index 0 and second is 1\n",
    "Syntax ---> a[1] , variable[index_value] "
   ]
  },
  {
   "cell_type": "code",
   "execution_count": 2,
   "id": "c06394b2-0dad-42dd-b1d1-441118c0d2c4",
   "metadata": {},
   "outputs": [
    {
     "name": "stdout",
     "output_type": "stream",
     "text": [
      "1\n"
     ]
    }
   ],
   "source": [
    "import numpy as np\n",
    "arr = np.array([1,2,3,4,5])\n",
    "print(arr[0])"
   ]
  },
  {
   "cell_type": "code",
   "execution_count": 4,
   "id": "7e3c5592-3ac3-449b-8537-0c0c3619731d",
   "metadata": {},
   "outputs": [
    {
     "name": "stdout",
     "output_type": "stream",
     "text": [
      "2\n"
     ]
    }
   ],
   "source": [
    "# get the second element from arrya\n",
    "arr = np.array([1,2,3,4,5,6])\n",
    "a = arr[1]\n",
    "print(a)"
   ]
  },
  {
   "cell_type": "markdown",
   "id": "ff8bffdb-06ac-46cb-8c0a-615aedcd3970",
   "metadata": {},
   "source": [
    "### Add two values by indexing \n",
    "#### We can perform another arthimetic operations also.\n"
   ]
  },
  {
   "cell_type": "code",
   "execution_count": 8,
   "id": "5b99e17f-be92-4a0c-b14b-f2d00cb2831d",
   "metadata": {},
   "outputs": [
    {
     "name": "stdout",
     "output_type": "stream",
     "text": [
      "8\n",
      "15\n"
     ]
    }
   ],
   "source": [
    "import numpy as np\n",
    "ar = np.array([9,7,5,3,1]) # add 7 & 1\n",
    "print(ar[1] + ar[4])\n",
    "\n",
    "# multiplication\n",
    "print(ar[3] * ar[2])\n"
   ]
  },
  {
   "cell_type": "markdown",
   "id": "46e61bbe-c230-4ac0-ad98-eb7a8c0398be",
   "metadata": {},
   "source": [
    "### 2-D Array Element Access\n",
    "#### comma used to seprate the integers which represents the dimensions and the index of the element."
   ]
  },
  {
   "cell_type": "code",
   "execution_count": 14,
   "id": "cf93f9fe-4b9b-42e8-a77b-21f4388d8ae3",
   "metadata": {},
   "outputs": [
    {
     "name": "stdout",
     "output_type": "stream",
     "text": [
      "9\n"
     ]
    }
   ],
   "source": [
    "import numpy as npp\n",
    "a = npp.array([[2,8,9,5],[8,9,5,1]]) # access 3 element from 1st row(9)\n",
    "print(a[0,2])"
   ]
  },
  {
   "cell_type": "code",
   "execution_count": 16,
   "id": "f1d29f01-c3ab-4159-bf14-8a77c027d0e4",
   "metadata": {},
   "outputs": [
    {
     "name": "stdout",
     "output_type": "stream",
     "text": [
      "1\n"
     ]
    }
   ],
   "source": [
    "# Access the element on 2nd row  and 8th column \n",
    "import numpy as np\n",
    "a = np.array([[1,7,5,9,6,1,5,7,4,9,3],[8,4,2,6,5,7,9,1,3,5,3]])\n",
    "print(a[1,7])"
   ]
  },
  {
   "cell_type": "markdown",
   "id": "e7079f3a-89fe-4380-bdcb-90de6fc9f063",
   "metadata": {},
   "source": [
    "### 3-D Array Element Access"
   ]
  },
  {
   "cell_type": "code",
   "execution_count": 24,
   "id": "9c46f2d4-4682-419c-bf29-686c506c748d",
   "metadata": {},
   "outputs": [
    {
     "name": "stdout",
     "output_type": "stream",
     "text": [
      "4\n"
     ]
    }
   ],
   "source": [
    "import numpy as np\n",
    "a = np.array([[[1,8,9,6,2,5],[8,9,2,4,7,2]],[[1,8,9,2,5,6],[2,1,8,9,2,3]]])\n",
    "print(a[0,1,3])"
   ]
  },
  {
   "cell_type": "raw",
   "id": "fb182805-7bd6-43a2-a8d4-9c15ca6f604f",
   "metadata": {},
   "source": [
    "As we know the 3-D array is the set of 2-D array \n",
    "Here we have two 2-D array in this set \n",
    "we use-- > a[0,1,3]\n",
    "Here , \n",
    "    0 represents the 1st Dimension ---> ([[[1,8,9,6,2,5],[8,9,2,4,7,2]]\n",
    "    1 represents the 2nd Dimension (1-D array)---> [8,9,2,4,7,2]]\n",
    "    3 represents the 3rd Dimension ---> [ , , ,4, , ]]                                 \n",
    "                                       "
   ]
  },
  {
   "cell_type": "markdown",
   "id": "5382d6d3-0e88-496f-a962-6c92452822ac",
   "metadata": {},
   "source": [
    "### Negative Indexing"
   ]
  },
  {
   "cell_type": "raw",
   "id": "335e8092-f9b8-4150-8731-2f25cddce34b",
   "metadata": {},
   "source": [
    "Eg : - [1,8,9,6,3,9,3,1] ---> Array\n",
    "_______-8-7-6-5-4-3-2-1  ---> Negative Indexing            "
   ]
  },
  {
   "cell_type": "code",
   "execution_count": 26,
   "id": "58b2cc24-11c6-44fc-a74a-414b61ad7b6f",
   "metadata": {},
   "outputs": [
    {
     "name": "stdout",
     "output_type": "stream",
     "text": [
      "4\n"
     ]
    }
   ],
   "source": [
    "import numpy as np \n",
    "a =np.array([[9,6,2,9,5],[1,8,9,1,4]])\n",
    "print(a[1,-1])"
   ]
  },
  {
   "cell_type": "code",
   "execution_count": null,
   "id": "34b7ad5e-d655-4a38-b215-57194bed7c29",
   "metadata": {},
   "outputs": [],
   "source": []
  }
 ],
 "metadata": {
  "kernelspec": {
   "display_name": "Python 3 (ipykernel)",
   "language": "python",
   "name": "python3"
  },
  "language_info": {
   "codemirror_mode": {
    "name": "ipython",
    "version": 3
   },
   "file_extension": ".py",
   "mimetype": "text/x-python",
   "name": "python",
   "nbconvert_exporter": "python",
   "pygments_lexer": "ipython3",
   "version": "3.11.4"
  }
 },
 "nbformat": 4,
 "nbformat_minor": 5
}
