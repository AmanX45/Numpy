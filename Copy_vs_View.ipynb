{
 "cells": [
  {
   "cell_type": "markdown",
   "id": "e676ec57-3460-4b8c-90d0-51bfcfcc517a",
   "metadata": {},
   "source": [
    "## Array Copy vs View"
   ]
  },
  {
   "cell_type": "raw",
   "id": "5d7f0342-158d-412a-b8cf-fefcd7e25afe",
   "metadata": {},
   "source": [
    "Copy -> Is a new array. (It owns the data Changes does not affect )\n",
    "View -> Is just a view of original array. (It does not own the data so changes made to view will affect the array)"
   ]
  },
  {
   "cell_type": "markdown",
   "id": "830228a2-ccd7-4b8a-9719-ef0711af667a",
   "metadata": {},
   "source": [
    "## Copy"
   ]
  },
  {
   "cell_type": "code",
   "execution_count": 2,
   "id": "f628c571-1027-4efe-a813-4a828365c30d",
   "metadata": {},
   "outputs": [
    {
     "name": "stdout",
     "output_type": "stream",
     "text": [
      "[3 8 6 2 6]\n",
      "[1 8 6 2 6]\n"
     ]
    }
   ],
   "source": [
    "# Make a copy chnage the array and display both array\n",
    "import numpy as np\n",
    "ax = np.array([1,8,6,2,6])\n",
    "x = ax.copy()\n",
    "ax[0]=3\n",
    "print(ax)\n",
    "print(x)\n"
   ]
  },
  {
   "cell_type": "code",
   "execution_count": 11,
   "id": "a8d8efb8-e68c-4b70-bcee-ecb33af0df9d",
   "metadata": {},
   "outputs": [
    {
     "name": "stdout",
     "output_type": "stream",
     "text": [
      "[1 4 8 5 6]\n",
      "[1 4 8 5 6]\n"
     ]
    }
   ],
   "source": [
    "# make changes in copy\n",
    "import numpy as np\n",
    "ax=np.array([1,4,8,5,6])\n",
    "x=ax.copy()\n",
    "x[2]=8\n",
    "print(ax)\n",
    "print(x)\n"
   ]
  },
  {
   "cell_type": "markdown",
   "id": "afe46404-d3da-4848-aa56-4c9b222232ef",
   "metadata": {},
   "source": [
    "## View"
   ]
  },
  {
   "cell_type": "code",
   "execution_count": 6,
   "id": "f3db0b0a-6f51-4fc9-adbe-bac894ee9b8c",
   "metadata": {},
   "outputs": [
    {
     "name": "stdout",
     "output_type": "stream",
     "text": [
      "[ 1 18 33  2  9]\n",
      "[ 1 18 33  2  9]\n"
     ]
    }
   ],
   "source": [
    "import numpy as np\n",
    "ax = np.array([1,18,9,2,9])\n",
    "x=ax.view()\n",
    "ax[2]=33\n",
    "print(ax)\n",
    "print(x)"
   ]
  },
  {
   "cell_type": "raw",
   "id": "3c0dd798-6962-43bc-ab82-3b2581c97c83",
   "metadata": {},
   "source": [
    "Check if array owns it's data\n",
    "base return none if array owns the data"
   ]
  },
  {
   "cell_type": "code",
   "execution_count": 10,
   "id": "0095bfc8-d6e0-47fd-811f-09f46de2936a",
   "metadata": {},
   "outputs": [
    {
     "name": "stdout",
     "output_type": "stream",
     "text": [
      "None\n",
      "[8 5 2 5 2 2 4 5]\n"
     ]
    }
   ],
   "source": [
    "import numpy as np\n",
    "\n",
    "ax=np.array([8,5,2,5,2,2,4,5])\n",
    "x = ax.copy()\n",
    "y = ax.view()\n",
    "\n",
    "print(x.base)\n",
    "print(y.base)"
   ]
  },
  {
   "cell_type": "code",
   "execution_count": null,
   "id": "11252c1b-bf23-4e95-b8a4-61b85a61720e",
   "metadata": {},
   "outputs": [],
   "source": []
  }
 ],
 "metadata": {
  "kernelspec": {
   "display_name": "Python 3 (ipykernel)",
   "language": "python",
   "name": "python3"
  },
  "language_info": {
   "codemirror_mode": {
    "name": "ipython",
    "version": 3
   },
   "file_extension": ".py",
   "mimetype": "text/x-python",
   "name": "python",
   "nbconvert_exporter": "python",
   "pygments_lexer": "ipython3",
   "version": "3.11.4"
  }
 },
 "nbformat": 4,
 "nbformat_minor": 5
}
