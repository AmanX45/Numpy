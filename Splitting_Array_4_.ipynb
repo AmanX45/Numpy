{
 "cells": [
  {
   "cell_type": "raw",
   "id": "8d9bad69-e497-402e-9fa9-3697138aebcc",
   "metadata": {},
   "source": [
    "## Splitting Array"
   ]
  },
  {
   "cell_type": "raw",
   "id": "eb3ff746-46d7-44a3-8bef-a25e9e6027bb",
   "metadata": {},
   "source": [
    "Splitting is reverse operation of joining \n",
    "It break one array into multiple  , we pass the array and the number of splits.\n",
    "array_split()"
   ]
  },
  {
   "cell_type": "code",
   "execution_count": 2,
   "id": "410e2418-fc18-48fe-b1d8-639debaa6fe6",
   "metadata": {},
   "outputs": [
    {
     "name": "stdout",
     "output_type": "stream",
     "text": [
      "[array([1, 8, 9]), array([6, 9, 6])]\n"
     ]
    }
   ],
   "source": [
    "# Split array in 3 parts\n",
    "import numpy as np\n",
    "ax = np.array([1,8,9,6,9,6])\n",
    "arr = np.array_split(ax,3)\n",
    "print(arr)"
   ]
  },
  {
   "cell_type": "raw",
   "id": "6dcfc70c-1e33-43bb-97da-4c52af955998",
   "metadata": {},
   "source": [
    "If the array has less elements than required, it will adjust from the end accordingly."
   ]
  },
  {
   "cell_type": "code",
   "execution_count": 6,
   "id": "de6b816b-6a83-4291-a861-0527f0826c2c",
   "metadata": {},
   "outputs": [
    {
     "name": "stdout",
     "output_type": "stream",
     "text": [
      "[array([1, 2]), array([3, 4]), array([5, 6])]\n"
     ]
    }
   ],
   "source": [
    "# split the array in 4 parts\n",
    "import numpy as np\n",
    "arr = np.array([1,2,3,4,5,6])\n",
    "new_arr = np.array_split(arr,4)\n",
    "print(new_arr)"
   ]
  },
  {
   "cell_type": "raw",
   "id": "47870b60-e903-43a5-91d3-81c9846e9a29",
   "metadata": {},
   "source": [
    "Note: We also have the method split() available but it will not adjust the elements\n",
    "when elements are less in source array for splitting like in example above,\n",
    "array_split() worked properly but split() would fail."
   ]
  },
  {
   "cell_type": "markdown",
   "id": "b3e9e5a4-2dc0-426b-b6e3-0f84769f37e4",
   "metadata": {},
   "source": [
    "### Split into arrays\n",
    "If you split an array into 4 arrays , you can access them from result"
   ]
  },
  {
   "cell_type": "code",
   "execution_count": 8,
   "id": "5f9ab252-0b0c-47b3-a5c7-083b99fdd6b2",
   "metadata": {},
   "outputs": [
    {
     "name": "stdout",
     "output_type": "stream",
     "text": [
      "[array([1, 2]), array([3, 4]), array([5, 6]), array([4, 9])]\n",
      "[1 2]\n",
      "[3 4]\n",
      "[5 6]\n",
      "[4 9]\n"
     ]
    }
   ],
   "source": [
    "# Access the splited array\n",
    "import numpy as np\n",
    "ax = np.array([1,2,3,4,5,6,4,9])\n",
    "arr = np.array_split(ax,4)\n",
    "print(arr)\n",
    "print(arr[0])\n",
    "print(arr[1])\n",
    "print(arr[2])\n",
    "print(arr[3])"
   ]
  },
  {
   "cell_type": "markdown",
   "id": "f605e2a1-bee2-44ef-983f-42b534331c3e",
   "metadata": {},
   "source": [
    "### Splitting 2-D Arrays"
   ]
  },
  {
   "cell_type": "code",
   "execution_count": 11,
   "id": "aae12a0f-92e3-439e-b721-7600deabee0b",
   "metadata": {},
   "outputs": [
    {
     "name": "stdout",
     "output_type": "stream",
     "text": [
      "[array([[1, 2],\n",
      "       [3, 4]]), array([[5, 6],\n",
      "       [7, 8]]), array([[ 9, 10],\n",
      "       [11, 12]])]\n"
     ]
    }
   ],
   "source": [
    "import numpy as np\n",
    "ax = np.array([[1, 2], [3, 4], [5, 6], [7, 8], [9, 10], [11, 12]])\n",
    "arr= np.array_split(ax,3)\n",
    "print(arr)"
   ]
  },
  {
   "cell_type": "code",
   "execution_count": 18,
   "id": "ac77fac1-e95c-4afa-8e3c-573e6ebb5e02",
   "metadata": {},
   "outputs": [
    {
     "name": "stdout",
     "output_type": "stream",
     "text": [
      "[array([[1, 2, 3],\n",
      "       [4, 5, 6]]), array([[ 7,  8,  9],\n",
      "       [10, 11, 12]]), array([[13, 14, 15]])]\n"
     ]
    }
   ],
   "source": [
    "import numpy as np\n",
    "ax = np.array([[1,2,3],[4,5,6],[7,8,9],[10,11,12],[13,14,15]])\n",
    "arr =np.array_split(ax,3)\n",
    "print(arr)"
   ]
  },
  {
   "cell_type": "code",
   "execution_count": 20,
   "id": "1b5a7317-b6cc-4932-9431-d332f5855916",
   "metadata": {},
   "outputs": [
    {
     "name": "stdout",
     "output_type": "stream",
     "text": [
      "[array([[1, 2, 3],\n",
      "       [4, 5, 6]]), array([[ 7,  8,  9],\n",
      "       [10, 11, 12]]), array([[13, 14, 15],\n",
      "       [16, 17, 18]])]\n"
     ]
    }
   ],
   "source": [
    "# An alternate solution is using hsplit() / vsplit() / dsplit() opposite of hstack() / vstack() / dstack()\n",
    "import numpy as np\n",
    "\n",
    "arr = np.array([[1, 2, 3], [4, 5, 6], [7, 8, 9], [10, 11, 12], [13, 14, 15], [16, 17, 18]])\n",
    "\n",
    "newarr = np.hsplit(arr, 3)\n",
    "\n",
    "print(newarr)"
   ]
  },
  {
   "cell_type": "code",
   "execution_count": null,
   "id": "fad6c654-26b7-430b-ba11-a3e44e80077f",
   "metadata": {},
   "outputs": [],
   "source": []
  }
 ],
 "metadata": {
  "kernelspec": {
   "display_name": "Python 3 (ipykernel)",
   "language": "python",
   "name": "python3"
  },
  "language_info": {
   "codemirror_mode": {
    "name": "ipython",
    "version": 3
   },
   "file_extension": ".py",
   "mimetype": "text/x-python",
   "name": "python",
   "nbconvert_exporter": "python",
   "pygments_lexer": "ipython3",
   "version": "3.11.4"
  }
 },
 "nbformat": 4,
 "nbformat_minor": 5
}
