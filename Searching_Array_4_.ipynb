{
 "cells": [
  {
   "cell_type": "markdown",
   "id": "e95df85e-57d0-4744-97f7-e3b08ad16692",
   "metadata": {},
   "source": [
    "## Searching Arrays\n",
    "You can search an array for a certain value ,  and return the indexes that get a match.\n",
    "where()"
   ]
  },
  {
   "cell_type": "markdown",
   "id": "61bd8cba-13d1-4d06-9ff7-44f820000d20",
   "metadata": {},
   "source": [
    "### Find the indexes where the value is 3\n"
   ]
  },
  {
   "cell_type": "code",
   "execution_count": 3,
   "id": "6c0f3431-dc35-41cd-abc1-18fa6f065192",
   "metadata": {},
   "outputs": [
    {
     "name": "stdout",
     "output_type": "stream",
     "text": [
      "(array([3, 4, 7, 9], dtype=int64),)\n"
     ]
    }
   ],
   "source": [
    "import numpy as np\n",
    "ax = np.array([1,8,9,3,3,8,5,3,9,3])\n",
    "arr = np.where(ax == 3)\n",
    "print(arr)\n"
   ]
  },
  {
   "cell_type": "markdown",
   "id": "e80bb998-04ff-4900-81d8-358e40a4c6ed",
   "metadata": {},
   "source": [
    "### Find the indexes where the value are even"
   ]
  },
  {
   "cell_type": "code",
   "execution_count": 4,
   "id": "9a8b5480-55ca-4cea-b5c0-519de3cfdc63",
   "metadata": {},
   "outputs": [
    {
     "name": "stdout",
     "output_type": "stream",
     "text": [
      "(array([ 1,  4,  8, 10, 12], dtype=int64),)\n"
     ]
    }
   ],
   "source": [
    "import numpy as np\n",
    "ax = np.array([1,8,9,5,8,9,5,9,6,5,6,9,6])\n",
    "arr = np.where(ax%2 == 0)\n",
    "print(arr)"
   ]
  },
  {
   "cell_type": "markdown",
   "id": "ce488f88-25a3-4504-8541-e41a735dbbc7",
   "metadata": {},
   "source": [
    "### Find the indexes where the values are odd:"
   ]
  },
  {
   "cell_type": "code",
   "execution_count": 5,
   "id": "b3071aed-394b-49fb-a4e1-55a6c5fb87ac",
   "metadata": {},
   "outputs": [
    {
     "name": "stdout",
     "output_type": "stream",
     "text": [
      "(array([0, 2, 4, 6], dtype=int64),)\n"
     ]
    }
   ],
   "source": [
    "import numpy as np\n",
    "arr = np.array([1,2,3,4,5,6,7,8])\n",
    "x = np.where(arr%2 == 1)\n",
    "print(x)"
   ]
  },
  {
   "cell_type": "markdown",
   "id": "cbe409ca-5edb-49fe-99e3-5e5e1747b83a",
   "metadata": {},
   "source": [
    "### Search Sorted\n",
    "`numpy.searchsorted` finds the index in a sorted array where a given value (like 6) should be inserted to maintain order."
   ]
  },
  {
   "cell_type": "raw",
   "id": "43453c6f-744a-4529-98ee-fafa0739d2ae",
   "metadata": {},
   "source": [
    "searchsorted() \n",
    "which performs a binary search in the array, \n",
    "and returns the index where the specified value would be inserted to maintain the search order.\n",
    "The searchsorted() method is assumed to be used on sorted arrays."
   ]
  },
  {
   "cell_type": "markdown",
   "id": "77890090-83ec-4d28-89d0-eff48bfb6bab",
   "metadata": {},
   "source": [
    "### Find the indexes where the value 7 should be inserted "
   ]
  },
  {
   "cell_type": "code",
   "execution_count": 11,
   "id": "e96d2722-0f98-41de-96d6-546a728c9f8a",
   "metadata": {},
   "outputs": [
    {
     "name": "stdout",
     "output_type": "stream",
     "text": [
      "1\n"
     ]
    }
   ],
   "source": [
    "import numpy as np\n",
    "arr= np.array([6,7,8,9])\n",
    "x = np.searchsorted(arr,7)\n",
    "print(x)"
   ]
  },
  {
   "cell_type": "code",
   "execution_count": 15,
   "id": "c8ba6a69-fdc2-4903-a00b-a29ddf2ae25f",
   "metadata": {},
   "outputs": [
    {
     "name": "stdout",
     "output_type": "stream",
     "text": [
      "0\n"
     ]
    }
   ],
   "source": [
    "import numpy as np\n",
    "arr= np.array([1,3,5,7,9,10,15])\n",
    "x = np.searchsorted(arr,0,side='right')\n",
    "print(x)"
   ]
  },
  {
   "cell_type": "markdown",
   "id": "13e4d49d-b5d9-4347-a672-88d22615eca9",
   "metadata": {},
   "source": [
    "Multiple Values"
   ]
  },
  {
   "cell_type": "code",
   "execution_count": 17,
   "id": "83ce51a1-d584-4a57-a622-09b8f9025df4",
   "metadata": {},
   "outputs": [
    {
     "name": "stdout",
     "output_type": "stream",
     "text": [
      "[1 2 3]\n"
     ]
    }
   ],
   "source": [
    "import numpy as np\n",
    "\n",
    "arr = np.array([1, 3, 5, 7])\n",
    "\n",
    "x = np.searchsorted(arr, [2, 4, 6])\n",
    "\n",
    "print(x)"
   ]
  },
  {
   "cell_type": "code",
   "execution_count": null,
   "id": "13c47927-daef-4de7-ad70-520738663e17",
   "metadata": {},
   "outputs": [],
   "source": []
  }
 ],
 "metadata": {
  "kernelspec": {
   "display_name": "Python 3 (ipykernel)",
   "language": "python",
   "name": "python3"
  },
  "language_info": {
   "codemirror_mode": {
    "name": "ipython",
    "version": 3
   },
   "file_extension": ".py",
   "mimetype": "text/x-python",
   "name": "python",
   "nbconvert_exporter": "python",
   "pygments_lexer": "ipython3",
   "version": "3.11.4"
  }
 },
 "nbformat": 4,
 "nbformat_minor": 5
}
