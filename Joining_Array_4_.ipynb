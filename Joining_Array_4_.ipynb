{
 "cells": [
  {
   "cell_type": "markdown",
   "id": "f1095ef5-7892-4ac6-aaa8-181a4cef14b1",
   "metadata": {},
   "source": [
    "## Joining Array"
   ]
  },
  {
   "cell_type": "raw",
   "id": "28cdb87b-24e0-4b3d-b7b9-a7f8bbccfe7e",
   "metadata": {},
   "source": [
    "Joining of array means putting the content of array together \n",
    "In SQL we join tables based on a key, whereas in NumPy we join arrays by axes.\n",
    "concatenate()"
   ]
  },
  {
   "cell_type": "code",
   "execution_count": 18,
   "id": "ca78bf7a-04dd-4b93-ac19-b4d145b78307",
   "metadata": {},
   "outputs": [
    {
     "name": "stdout",
     "output_type": "stream",
     "text": [
      "1\n"
     ]
    }
   ],
   "source": [
    "# Join two arrays\n",
    "import numpy as np\n",
    "\n",
    "ax = np.array([8,9,6,5])\n",
    "ay = np.array([2,4,9,3])\n",
    "axx = np.concatenate((ax,ay))\n",
    "print(axx)"
   ]
  },
  {
   "cell_type": "code",
   "execution_count": 10,
   "id": "73305570-aad1-4b5a-b5d5-79bb2a2eafa7",
   "metadata": {},
   "outputs": [
    {
     "name": "stdout",
     "output_type": "stream",
     "text": [
      "[[8 2 9 6 9 6 2 5]\n",
      " [8 5 5 1 0 5 2 0]]\n"
     ]
    }
   ],
   "source": [
    "# Join two 2-D arrays along rows (axis = 1)\n",
    "import numpy as np\n",
    "ar1 = np.array([[8,2,9,6],[8,5,5,1]])\n",
    "ar2 = np.array([[9,6,2,5],[0,5,2,0]])\n",
    "arr = np.concatenate((ar1,ar2),axis =)\n",
    "print(arr)"
   ]
  },
  {
   "cell_type": "markdown",
   "id": "e149e9cd-5394-4111-87f3-f717319c54b4",
   "metadata": {},
   "source": [
    "### Joining array using stack function"
   ]
  },
  {
   "cell_type": "raw",
   "id": "8021c2d1-4330-45df-a3c0-91982d1c559c",
   "metadata": {},
   "source": [
    "Stacking --- > It is same as concatenation ,the difference is that stacking done along a new axis."
   ]
  },
  {
   "cell_type": "code",
   "execution_count": 21,
   "id": "9d7de4c3-963f-421f-a6be-7c6e2a404706",
   "metadata": {},
   "outputs": [
    {
     "name": "stdout",
     "output_type": "stream",
     "text": [
      "[[1 1]\n",
      " [2 2]\n",
      " [3 3]]\n",
      "2\n"
     ]
    }
   ],
   "source": [
    "import numpy as np\n",
    "ar1 = np.array([1,2,3])\n",
    "ar2 = np.array([1,2,3])\n",
    "arr = np.stack((ar1,ar2),axis=1) \n",
    "print(arr)\n",
    "print(arr.ndim)"
   ]
  },
  {
   "cell_type": "markdown",
   "id": "ecd909c5-9bd7-4a3b-a9fc-12d40274cea7",
   "metadata": {},
   "source": [
    "### Stacking along rows\n",
    "hstack()"
   ]
  },
  {
   "cell_type": "code",
   "execution_count": 26,
   "id": "4d607a00-0ddc-4fee-a532-cdb375b68764",
   "metadata": {},
   "outputs": [
    {
     "name": "stdout",
     "output_type": "stream",
     "text": [
      "[1 2 3 8 9 6]\n"
     ]
    }
   ],
   "source": [
    "import numpy as np\n",
    "ax = np.array([1,2,3])\n",
    "ay = np.array([8,9,6])\n",
    "arr = np.hstack((ax,ay))\n",
    "print(arr)"
   ]
  },
  {
   "cell_type": "markdown",
   "id": "ffa567f9-5075-410d-8ab9-7101d66dc3f6",
   "metadata": {},
   "source": [
    "### Stacking along columns\n",
    "vstack()"
   ]
  },
  {
   "cell_type": "code",
   "execution_count": 32,
   "id": "38474e7e-af0d-4e71-8f39-a2ae79805d5b",
   "metadata": {},
   "outputs": [
    {
     "name": "stdout",
     "output_type": "stream",
     "text": [
      "[[8 2 3 6]\n",
      " [6 8 5 4]]\n"
     ]
    }
   ],
   "source": [
    "import numpy as np\n",
    "ax = np.array([8,2,3,6])\n",
    "ay = np.array([6,8,5,4])\n",
    "arr = np.vstack((ax,ay))\n",
    "print(arr)"
   ]
  },
  {
   "cell_type": "markdown",
   "id": "da265eaa-2ce3-45c5-9d98-6a525060cf18",
   "metadata": {},
   "source": [
    "### Stacking along height\n",
    "dstack()"
   ]
  },
  {
   "cell_type": "code",
   "execution_count": 34,
   "id": "114b92d2-71e4-42e8-854f-459f63663f5f",
   "metadata": {},
   "outputs": [
    {
     "name": "stdout",
     "output_type": "stream",
     "text": [
      "[[[1 8]\n",
      "  [8 9]\n",
      "  [5 6]\n",
      "  [6 4]]]\n"
     ]
    }
   ],
   "source": [
    "import numpy as np\n",
    "ax = np.array([1,8,5,6])\n",
    "ay = np.array([8,9,6,4])\n",
    "arr=np.dstack((ax,ay))\n",
    "print(arr)"
   ]
  },
  {
   "cell_type": "code",
   "execution_count": null,
   "id": "314adcdc-a1bb-487d-a4b3-414ba93b8118",
   "metadata": {},
   "outputs": [],
   "source": []
  }
 ],
 "metadata": {
  "kernelspec": {
   "display_name": "Python 3 (ipykernel)",
   "language": "python",
   "name": "python3"
  },
  "language_info": {
   "codemirror_mode": {
    "name": "ipython",
    "version": 3
   },
   "file_extension": ".py",
   "mimetype": "text/x-python",
   "name": "python",
   "nbconvert_exporter": "python",
   "pygments_lexer": "ipython3",
   "version": "3.11.4"
  }
 },
 "nbformat": 4,
 "nbformat_minor": 5
}
