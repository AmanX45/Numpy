{
 "cells": [
  {
   "cell_type": "markdown",
   "id": "dc867d66-efe0-4200-a6c5-fbc732017a78",
   "metadata": {},
   "source": [
    "## Sorting Array"
   ]
  },
  {
   "cell_type": "raw",
   "id": "507d23eb-4e99-4640-9bcf-670f09b597f4",
   "metadata": {},
   "source": [
    "Sorting means putting element in an ordered sequence.Like numeric or alphabetical , ascending or descending . \n",
    "sort()"
   ]
  },
  {
   "cell_type": "code",
   "execution_count": 2,
   "id": "9c7281b5-6816-43b7-afc9-9efa818a33a7",
   "metadata": {},
   "outputs": [
    {
     "name": "stdout",
     "output_type": "stream",
     "text": [
      "[ 1  2  4  5  5  8  8  9 63]\n"
     ]
    }
   ],
   "source": [
    "# Note: This method returns a copy of the array, leaving the original array unchanged.\n",
    "import numpy as np\n",
    "ax = np.array([9,8,4,2,1,5,8,63,5])\n",
    "print(np.sort(ax))\n",
    "\n"
   ]
  },
  {
   "cell_type": "markdown",
   "id": "12fdd6fe-6e7b-41a7-b983-2525073d6fa7",
   "metadata": {},
   "source": [
    "#### Sort the array alphabetically"
   ]
  },
  {
   "cell_type": "code",
   "execution_count": 4,
   "id": "a0388950-78c0-44ba-ba7f-1acc3482181f",
   "metadata": {},
   "outputs": [
    {
     "name": "stdout",
     "output_type": "stream",
     "text": [
      "['banana' 'grapes' 'kiwi' 'mango']\n"
     ]
    }
   ],
   "source": [
    "import numpy as np\n",
    "ax = np.array(['banana','kiwi','mango','grapes'])\n",
    "print(np.sort(ax))"
   ]
  },
  {
   "cell_type": "markdown",
   "id": "285e7798-2051-460e-97b5-e3725e01a089",
   "metadata": {},
   "source": [
    "### Sorting a 2-D Array"
   ]
  },
  {
   "cell_type": "code",
   "execution_count": 6,
   "id": "bf354a54-cc73-4193-b898-53026a52fd22",
   "metadata": {},
   "outputs": [
    {
     "name": "stdout",
     "output_type": "stream",
     "text": [
      "[[ 1  5  8  8  9]\n",
      " [ 1  5  8  9 10]]\n"
     ]
    }
   ],
   "source": [
    "import numpy as np\n",
    "ax = np.array([[1,8,9,5,8],[10,5,9,1,8,]])\n",
    "print(np.sort(ax))"
   ]
  },
  {
   "cell_type": "code",
   "execution_count": null,
   "id": "7a725815-912c-49af-a1b3-e9e214781465",
   "metadata": {},
   "outputs": [],
   "source": []
  }
 ],
 "metadata": {
  "kernelspec": {
   "display_name": "Python 3 (ipykernel)",
   "language": "python",
   "name": "python3"
  },
  "language_info": {
   "codemirror_mode": {
    "name": "ipython",
    "version": 3
   },
   "file_extension": ".py",
   "mimetype": "text/x-python",
   "name": "python",
   "nbconvert_exporter": "python",
   "pygments_lexer": "ipython3",
   "version": "3.11.4"
  }
 },
 "nbformat": 4,
 "nbformat_minor": 5
}
