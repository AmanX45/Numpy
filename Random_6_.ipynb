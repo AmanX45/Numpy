{
 "cells": [
  {
   "cell_type": "markdown",
   "id": "e792dc5f-8e93-4f49-98fe-82dc658c4d6f",
   "metadata": {},
   "source": [
    "## Random \n",
    "#### . Random Data Distribution"
   ]
  },
  {
   "cell_type": "raw",
   "id": "42903da9-544a-4ba6-9e50-a9f28c831136",
   "metadata": {},
   "source": [
    "Random ---> It is a number that cannot predicted logically."
   ]
  },
  {
   "cell_type": "markdown",
   "id": "02942828-7da4-459b-b721-de5fc6c2ac04",
   "metadata": {},
   "source": [
    "#### Generate Random Number "
   ]
  },
  {
   "cell_type": "code",
   "execution_count": 1,
   "id": "8b71d7c7-5e01-4fc4-a24b-396b54acd79f",
   "metadata": {},
   "outputs": [
    {
     "name": "stdout",
     "output_type": "stream",
     "text": [
      "38\n"
     ]
    }
   ],
   "source": [
    "from numpy import random\n",
    "x = random.randint(100) # print a random number from 0-100\n",
    "print(x)"
   ]
  },
  {
   "cell_type": "code",
   "execution_count": null,
   "id": "b4371fed-22f8-459c-835c-9573deb0dd2e",
   "metadata": {},
   "outputs": [],
   "source": []
  },
  {
   "cell_type": "markdown",
   "id": "72cad745-1f85-49ea-b8e7-e82ba0362203",
   "metadata": {},
   "source": [
    "#### Generate Random Float"
   ]
  },
  {
   "cell_type": "code",
   "execution_count": 2,
   "id": "8b51035c-6304-419f-aaab-f8e738fea524",
   "metadata": {},
   "outputs": [
    {
     "name": "stdout",
     "output_type": "stream",
     "text": [
      "0.9488649158513514\n"
     ]
    }
   ],
   "source": [
    "from numpy import random\n",
    "x = random.rand()\n",
    "print(x)"
   ]
  },
  {
   "cell_type": "markdown",
   "id": "3fee32af-167d-4021-8952-cae12aabfa0a",
   "metadata": {},
   "source": [
    "#### Generate Random Array"
   ]
  },
  {
   "cell_type": "code",
   "execution_count": 3,
   "id": "3ae10eb3-1d5e-4666-8239-2358d1b8e422",
   "metadata": {},
   "outputs": [
    {
     "name": "stdout",
     "output_type": "stream",
     "text": [
      "[65 83 84 39 19]\n"
     ]
    }
   ],
   "source": [
    "# 1-D Array\n",
    "from numpy import random\n",
    "x = random.randint(100, size=(5))\n",
    "print(x)"
   ]
  },
  {
   "cell_type": "code",
   "execution_count": 4,
   "id": "7ed867d5-6c90-4164-b2cf-47e558f4d2d0",
   "metadata": {},
   "outputs": [],
   "source": [
    "# 2-D Array\n",
    "from numpy import random\n",
    "x = random.randint(100 , size=(3,5)) # (row,column)"
   ]
  },
  {
   "cell_type": "markdown",
   "id": "a0daf21e-24e0-4f47-b2dc-4ba55c2c0eca",
   "metadata": {},
   "source": [
    "#### Float \n",
    "the rand() method also allows you to specify the shape of the array"
   ]
  },
  {
   "cell_type": "code",
   "execution_count": 5,
   "id": "d67744d1-cdba-44a8-b93f-bb2ebbd5364e",
   "metadata": {},
   "outputs": [
    {
     "name": "stdout",
     "output_type": "stream",
     "text": [
      "[0.35453976 0.92702914 0.73670158 0.12538408 0.82080842]\n"
     ]
    }
   ],
   "source": [
    "# 1-D float\n",
    "from numpy import random\n",
    "x = random.rand(5)\n",
    "print(x)"
   ]
  },
  {
   "cell_type": "code",
   "execution_count": 6,
   "id": "90904107-ef76-4e2a-b4f2-9c772e962563",
   "metadata": {},
   "outputs": [
    {
     "name": "stdout",
     "output_type": "stream",
     "text": [
      "[[0.69428888 0.33692728]\n",
      " [0.89412962 0.73801858]\n",
      " [0.20271898 0.09315975]\n",
      " [0.63467749 0.50803422]]\n"
     ]
    }
   ],
   "source": [
    "# 2-D float\n",
    "from numpy import random\n",
    "x = random.rand(4,2)\n",
    "print(x)"
   ]
  },
  {
   "cell_type": "markdown",
   "id": "caa40a1a-c71e-46d8-96ef-3949d60504f6",
   "metadata": {},
   "source": [
    "#### Generate Random Number From Array\n",
    "choice() randomly returns one of the values from an array."
   ]
  },
  {
   "cell_type": "code",
   "execution_count": 7,
   "id": "1a78cb18-d65b-4fd6-9a04-86439ab1945d",
   "metadata": {},
   "outputs": [
    {
     "name": "stdout",
     "output_type": "stream",
     "text": [
      "20\n"
     ]
    }
   ],
   "source": [
    "from numpy import random\n",
    "x= random.choice([20 ,20 ,24 ,89,3])\n",
    "print(x)"
   ]
  },
  {
   "cell_type": "markdown",
   "id": "6a9d26fb-51d5-43e8-b191-51f35c4aa159",
   "metadata": {},
   "source": [
    "##### size with choice()"
   ]
  },
  {
   "cell_type": "code",
   "execution_count": 8,
   "id": "6bdfc8ef-a24d-4e1b-80b4-f982d411a9ce",
   "metadata": {},
   "outputs": [
    {
     "name": "stdout",
     "output_type": "stream",
     "text": [
      "[[6 6]\n",
      " [6 4]\n",
      " [1 0]\n",
      " [6 9]\n",
      " [0 8]]\n"
     ]
    }
   ],
   "source": [
    "from numpy import random\n",
    "x = random.choice([6,9,4,8,1,5,0] , size=(5,2))\n",
    "print(x)"
   ]
  },
  {
   "cell_type": "code",
   "execution_count": null,
   "id": "0a6aead8-c115-4610-a1f6-d57e2d042516",
   "metadata": {},
   "outputs": [],
   "source": []
  },
  {
   "cell_type": "markdown",
   "id": "77612647-3e15-4797-a90f-4546ab399892",
   "metadata": {},
   "source": [
    "##  Random Data Distribution"
   ]
  },
  {
   "cell_type": "raw",
   "id": "b3941467-8cb7-472b-9e1e-046a02695969",
   "metadata": {},
   "source": [
    "Data Distribution ---> List of all possible values & how often each value occur\n",
    "(Such lists are important when working with statistics and data science)\n",
    "(Random module offer methods that randomly generated data distribution)"
   ]
  },
  {
   "cell_type": "raw",
   "id": "c768c20a-3717-483c-b0c0-648008a6f99f",
   "metadata": {},
   "source": [
    "A random distribution is a set of random numbers that follow a certain probability density function.\n",
    "\n",
    "Probability Density Function: A function that describes a continuous probability. i.e. probability of all values in an array\n",
    "\n",
    "       [0.2,0.2,0.6] \n",
    "\n",
    "0.2 means --> 20% of total.\n",
    "0.6 means --> 60% of total.\n",
    "0.0 menas --> even if you run example above 100 times , the 0.0 (4) will never occur.\n",
    "The sum of all probability numbers should be 1."
   ]
  },
  {
   "cell_type": "code",
   "execution_count": 9,
   "id": "9bfd1d7c-d677-420c-bea8-7bd8d1057cc0",
   "metadata": {},
   "outputs": [
    {
     "name": "stdout",
     "output_type": "stream",
     "text": [
      "[9 8 8 5 9 5 5 9 5 8 5 5 5 5 8 5 5 8 8 5 5 5 8 9 5 5 5 5 8 5 8 8 5 5 5 5 9\n",
      " 9 5 5 5 8 5 9 8 5 5 8 5 5 5 5 8 5 9 5 5 8 8 5 8 8 5 9 9 5 8 9 5 5 5 9 5 9\n",
      " 5 5 5 8 5 5 5 5 5 9 5 5 5 5 5 9 9 5 5 5 8 8 8 5 9 5]\n"
     ]
    }
   ],
   "source": [
    "from numpy import random \n",
    "x = random.choice([8,9,5,4],p=[0.2,0.2,0.6,0.0],size =(100))\n",
    "print(x)\n"
   ]
  },
  {
   "cell_type": "code",
   "execution_count": 10,
   "id": "26fc5e74-f560-4de9-b5f5-f3a77eb52f34",
   "metadata": {},
   "outputs": [
    {
     "name": "stdout",
     "output_type": "stream",
     "text": [
      "[[6 0 3 3 6 3]\n",
      " [0 6 3 6 5 1]\n",
      " [3 5 0 1 5 6]\n",
      " [5 3 3 0 5 0]]\n"
     ]
    }
   ],
   "source": [
    "from numpy import random\n",
    "x= random.choice([0,2,1,5,6,3] , p =[0.1,0.0,0.1,0.2,0.4,0.2], size = (4,6))\n",
    "print(x)\n",
    "# in this 2 will not occur in 2-D array"
   ]
  },
  {
   "cell_type": "code",
   "execution_count": null,
   "id": "0c8acb48-0cf2-4ad8-8421-dda8882ebf23",
   "metadata": {},
   "outputs": [],
   "source": []
  },
  {
   "cell_type": "code",
   "execution_count": null,
   "id": "7f7683a7-a868-4d2a-ba50-8e7fab0183d4",
   "metadata": {},
   "outputs": [],
   "source": []
  },
  {
   "cell_type": "code",
   "execution_count": null,
   "id": "6af7f9b9-a421-4658-8cf1-2c08e901a584",
   "metadata": {},
   "outputs": [],
   "source": []
  }
 ],
 "metadata": {
  "kernelspec": {
   "display_name": "Python 3 (ipykernel)",
   "language": "python",
   "name": "python3"
  },
  "language_info": {
   "codemirror_mode": {
    "name": "ipython",
    "version": 3
   },
   "file_extension": ".py",
   "mimetype": "text/x-python",
   "name": "python",
   "nbconvert_exporter": "python",
   "pygments_lexer": "ipython3",
   "version": "3.11.4"
  }
 },
 "nbformat": 4,
 "nbformat_minor": 5
}
