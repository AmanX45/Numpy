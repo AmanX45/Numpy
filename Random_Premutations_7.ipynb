{
 "cells": [
  {
   "cell_type": "markdown",
   "id": "470c30a8-6a95-4979-929b-3b08cb83c5f4",
   "metadata": {},
   "source": [
    "## Random Permutation"
   ]
  },
  {
   "cell_type": "raw",
   "id": "44e8566b-e760-459d-847f-341b23c5e956",
   "metadata": {},
   "source": [
    "Permutation ---> means arrangement of elements [3,2,1] to [1,2,3] and vice -versa\n",
    "shuffle()\n",
    "permutation()"
   ]
  },
  {
   "cell_type": "markdown",
   "id": "14e2b6f7-d02a-4836-9ab8-4956c5eb30ac",
   "metadata": {},
   "source": [
    "#### Shuffling Arrays\n",
    "##### shuffle() makes changes to original array."
   ]
  },
  {
   "cell_type": "code",
   "execution_count": 11,
   "id": "60c932d7-6d4f-45b7-9625-08c7218a7c87",
   "metadata": {},
   "outputs": [
    {
     "name": "stdout",
     "output_type": "stream",
     "text": [
      "[3 4 5 2 6 1]\n",
      "[3 4 5 2 6 1]\n"
     ]
    }
   ],
   "source": [
    "from numpy import random\n",
    "import numpy as np\n",
    "ar = np.array([1,2,3,4,5,6])\n",
    "random.shuffle(ar)\n",
    "print(ar)\n",
    "print(ar)"
   ]
  },
  {
   "cell_type": "markdown",
   "id": "e3501f03-8cbf-4926-ac24-25c10348ad0e",
   "metadata": {},
   "source": [
    "#### Permutation of arrays\n",
    "##### The permutation() method returns a re-arranged array (and leaves the original array un-changed).\n",
    "\n"
   ]
  },
  {
   "cell_type": "code",
   "execution_count": 8,
   "id": "836d1d53-ba9d-4350-955d-926e5e6a84e2",
   "metadata": {},
   "outputs": [
    {
     "name": "stdout",
     "output_type": "stream",
     "text": [
      "[4 1 5 3 2]\n",
      "[1 2 3 4 5]\n"
     ]
    }
   ],
   "source": [
    "from numpy import random\n",
    "import numpy as np\n",
    "ar = np.array([1,2,3,4,5])\n",
    "print(random.permutation(ar))\n",
    "print(ar)"
   ]
  },
  {
   "cell_type": "code",
   "execution_count": null,
   "id": "a8e6eef1-39a7-4ffd-80eb-ce9a380761b2",
   "metadata": {},
   "outputs": [],
   "source": []
  }
 ],
 "metadata": {
  "kernelspec": {
   "display_name": "Python 3 (ipykernel)",
   "language": "python",
   "name": "python3"
  },
  "language_info": {
   "codemirror_mode": {
    "name": "ipython",
    "version": 3
   },
   "file_extension": ".py",
   "mimetype": "text/x-python",
   "name": "python",
   "nbconvert_exporter": "python",
   "pygments_lexer": "ipython3",
   "version": "3.11.4"
  }
 },
 "nbformat": 4,
 "nbformat_minor": 5
}
