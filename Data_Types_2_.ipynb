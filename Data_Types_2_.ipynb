{
 "cells": [
  {
   "cell_type": "markdown",
   "id": "46751a39-bcf8-4240-bf4a-1e7f8c0ccacb",
   "metadata": {},
   "source": [
    "## Numpy Data Types"
   ]
  },
  {
   "cell_type": "raw",
   "id": "903beffa-982d-4226-9d05-fc362d55fc83",
   "metadata": {},
   "source": [
    "Numpy has some extra data types and refer data types with one character like i for integer ...\n",
    "for more info check out the txt file of day2 on github."
   ]
  },
  {
   "cell_type": "markdown",
   "id": "978b646c-4413-47db-9a4b-2e1b84e3e2a8",
   "metadata": {},
   "source": [
    "### Checking the data type of an array \n",
    "#### Syntax --- > a.dtype"
   ]
  },
  {
   "cell_type": "code",
   "execution_count": 25,
   "id": "a7d5d4c3-f795-4ab9-b15c-4cb237db1e82",
   "metadata": {},
   "outputs": [
    {
     "name": "stdout",
     "output_type": "stream",
     "text": [
      "int32\n"
     ]
    }
   ],
   "source": [
    "import numpy as np\n",
    "ax = np.array([1,5,1,2,2,0,2,4])\n",
    "print(ax.dtype)"
   ]
  },
  {
   "cell_type": "code",
   "execution_count": 26,
   "id": "e24f79a6-d29c-41f2-9835-589a6358123b",
   "metadata": {},
   "outputs": [
    {
     "name": "stdout",
     "output_type": "stream",
     "text": [
      "<U3\n"
     ]
    }
   ],
   "source": [
    "# data type of an array containing string\n",
    "\n",
    "import numpy as np\n",
    "ax = np.array(['Abc','Xyz'])\n",
    "print(ax.dtype)"
   ]
  },
  {
   "cell_type": "markdown",
   "id": "78391169-bb5f-4a81-aa57-99b5a922d80b",
   "metadata": {},
   "source": [
    "### Creating Arrays with a defined data types"
   ]
  },
  {
   "cell_type": "code",
   "execution_count": 27,
   "id": "038e2e2e-84a3-4f6d-9711-75b538002147",
   "metadata": {},
   "outputs": [
    {
     "name": "stdout",
     "output_type": "stream",
     "text": [
      "[b'1' b'2' b'3' b'4']\n",
      "|S1\n"
     ]
    }
   ],
   "source": [
    "import numpy as np\n",
    "ax = np.array([1,2,3,4] ,dtype='S')\n",
    "print(ax)\n",
    "print(ax.dtype)"
   ]
  },
  {
   "cell_type": "markdown",
   "id": "f2f8aed4-8f98-4701-9ad5-faf7d1e668b3",
   "metadata": {},
   "source": [
    "### Create an array with data type 4 bytes integer "
   ]
  },
  {
   "cell_type": "code",
   "execution_count": 28,
   "id": "40ba01f2-215a-471a-a3e1-f3f32cac24cd",
   "metadata": {},
   "outputs": [
    {
     "name": "stdout",
     "output_type": "stream",
     "text": [
      "[1 4 5 6 5]\n",
      "int32\n"
     ]
    }
   ],
   "source": [
    "import numpy as np\n",
    "arr = np.array([1,4,5,6,5],dtype='i4')\n",
    "print(arr)\n",
    "print(arr.dtype)"
   ]
  },
  {
   "cell_type": "code",
   "execution_count": 29,
   "id": "287c753c-e54b-4206-a044-63bf4d7f86b9",
   "metadata": {},
   "outputs": [
    {
     "ename": "ValueError",
     "evalue": "invalid literal for int() with base 10: 'h'",
     "output_type": "error",
     "traceback": [
      "\u001b[1;31m---------------------------------------------------------------------------\u001b[0m",
      "\u001b[1;31mValueError\u001b[0m                                Traceback (most recent call last)",
      "Cell \u001b[1;32mIn[29], line 3\u001b[0m\n\u001b[0;32m      1\u001b[0m \u001b[38;5;66;03m# A non integer string like 'h' cannot convert into integer\u001b[39;00m\n\u001b[0;32m      2\u001b[0m \u001b[38;5;28;01mimport\u001b[39;00m \u001b[38;5;21;01mnumpy\u001b[39;00m \u001b[38;5;28;01mas\u001b[39;00m \u001b[38;5;21;01mnp\u001b[39;00m\n\u001b[1;32m----> 3\u001b[0m arr \u001b[38;5;241m=\u001b[39m \u001b[43mnp\u001b[49m\u001b[38;5;241;43m.\u001b[39;49m\u001b[43marray\u001b[49m\u001b[43m(\u001b[49m\u001b[43m[\u001b[49m\u001b[38;5;124;43m'\u001b[39;49m\u001b[38;5;124;43m7\u001b[39;49m\u001b[38;5;124;43m'\u001b[39;49m\u001b[43m,\u001b[49m\u001b[43m \u001b[49m\u001b[38;5;124;43m'\u001b[39;49m\u001b[38;5;124;43mh\u001b[39;49m\u001b[38;5;124;43m'\u001b[39;49m\u001b[43m,\u001b[49m\u001b[43m \u001b[49m\u001b[38;5;124;43m'\u001b[39;49m\u001b[38;5;124;43m3\u001b[39;49m\u001b[38;5;124;43m'\u001b[39;49m\u001b[43m]\u001b[49m\u001b[43m,\u001b[49m\u001b[43m \u001b[49m\u001b[43mdtype\u001b[49m\u001b[38;5;241;43m=\u001b[39;49m\u001b[38;5;124;43m'\u001b[39;49m\u001b[38;5;124;43mi\u001b[39;49m\u001b[38;5;124;43m'\u001b[39;49m\u001b[43m)\u001b[49m\n",
      "\u001b[1;31mValueError\u001b[0m: invalid literal for int() with base 10: 'h'"
     ]
    }
   ],
   "source": [
    "# A non integer string like 'h' cannot convert into integer\n",
    "import numpy as np\n",
    "arr = np.array(['7', 'h', '3'], dtype='i')"
   ]
  },
  {
   "cell_type": "markdown",
   "id": "c714ec3b-882e-4a13-9f69-bc91a207b664",
   "metadata": {},
   "source": [
    "## Converting Data Type on existing arrays"
   ]
  },
  {
   "cell_type": "raw",
   "id": "d7de9f70-b79b-4aa5-b310-aa3fe2b1c4a0",
   "metadata": {},
   "source": [
    "Syntax ---> astype()\n",
    "You can use the data type directly like 'float' instead of 'f'"
   ]
  },
  {
   "cell_type": "markdown",
   "id": "3f19368a-de40-4d47-8ded-784750c92512",
   "metadata": {},
   "source": [
    "### Change the data type from float to integer "
   ]
  },
  {
   "cell_type": "code",
   "execution_count": 32,
   "id": "5bf1db05-6e3c-4566-8d8e-404728e7db3f",
   "metadata": {},
   "outputs": [
    {
     "name": "stdout",
     "output_type": "stream",
     "text": [
      "float64\n",
      "[1 5 8 4]\n",
      "int32\n"
     ]
    }
   ],
   "source": [
    "import numpy as np\n",
    "ax=np.array([1.4,5.0,8.9,4.5])\n",
    "print(ax.dtype)\n",
    "\n",
    "ax_new = ax.astype('i') # use can use -> ax.astype(int)\n",
    "print(ax_new)\n",
    "print(ax_new.dtype)"
   ]
  },
  {
   "cell_type": "markdown",
   "id": "43f35717-fd0d-462c-a83c-9a71c6edee86",
   "metadata": {},
   "source": [
    "### Change Data type from integer to boolean"
   ]
  },
  {
   "cell_type": "code",
   "execution_count": 36,
   "id": "8a675078-8f5f-4f2d-a331-8a362918ed2e",
   "metadata": {},
   "outputs": [
    {
     "name": "stdout",
     "output_type": "stream",
     "text": [
      "[ True False  True  True False  True False]\n",
      "bool\n"
     ]
    }
   ],
   "source": [
    "import numpy as np\n",
    "ax=np.array([1,0,7,8,0,1,0])\n",
    "ax_new= ax.astype(bool)\n",
    "print(ax_new)\n",
    "print(ax_new.dtype)"
   ]
  },
  {
   "cell_type": "code",
   "execution_count": null,
   "id": "35d37ed3-70c2-4282-a1b0-11434aecc26d",
   "metadata": {},
   "outputs": [],
   "source": []
  }
 ],
 "metadata": {
  "kernelspec": {
   "display_name": "Python 3 (ipykernel)",
   "language": "python",
   "name": "python3"
  },
  "language_info": {
   "codemirror_mode": {
    "name": "ipython",
    "version": 3
   },
   "file_extension": ".py",
   "mimetype": "text/x-python",
   "name": "python",
   "nbconvert_exporter": "python",
   "pygments_lexer": "ipython3",
   "version": "3.11.4"
  }
 },
 "nbformat": 4,
 "nbformat_minor": 5
}
